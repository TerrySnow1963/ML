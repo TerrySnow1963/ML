{
 "cells": [
  {
   "cell_type": "code",
   "execution_count": null,
   "metadata": {
    "collapsed": true
   },
   "outputs": [],
   "source": [
    "#FaceNorm: centre, downsample and save face image files"
   ]
  },
  {
   "cell_type": "code",
   "execution_count": 1,
   "metadata": {
    "collapsed": false
   },
   "outputs": [
    {
     "data": {
      "text/plain": [
       "'/Users/terrysnow/Big Data/Faces'"
      ]
     },
     "execution_count": 1,
     "metadata": {},
     "output_type": "execute_result"
    }
   ],
   "source": [
    "from skimage import io\n",
    "import matplotlib.pyplot as plt\n",
    "import matplotlib.image as mpimg\n",
    "import numpy as np\n",
    "%matplotlib inline\n",
    "%pwd"
   ]
  },
  {
   "cell_type": "code",
   "execution_count": 2,
   "metadata": {
    "collapsed": false
   },
   "outputs": [
    {
     "data": {
      "text/plain": [
       "(119,)"
      ]
     },
     "execution_count": 2,
     "metadata": {},
     "output_type": "execute_result"
    }
   ],
   "source": [
    "import glob\n",
    "imfiles = glob.glob(\"data/faces/*.jpeg\")\n",
    "np.shape(imfiles)"
   ]
  },
  {
   "cell_type": "code",
   "execution_count": 7,
   "metadata": {
    "collapsed": true
   },
   "outputs": [],
   "source": [
    "def ImageResample(img):\n",
    "#    itemindex = np.where(img < 40)\n",
    "#    rowvals, colvals = itemindex\n",
    "#    minrow, maxrow, mincol, maxcol = rowvals[0], rowvals[-1], min(colvals), max(colvals)\n",
    "    \n",
    "    THRESH_HOLD = 230\n",
    "    rowsav = img.mean(axis=1)\n",
    "    colsav = img.mean(axis=0)\n",
    "    itemindex = np.where(rowsav<THRESH_HOLD)\n",
    "    rowvals = itemindex[0]\n",
    "    minrow, maxrow = rowvals[0], rowvals[-1]\n",
    "    itemindex = np.where(colsav<THRESH_HOLD)\n",
    "    colvals = itemindex[0]\n",
    "    mincol, maxcol = colvals[0], colvals[-1]\n",
    "    minrow, maxrow, mincol, maxcol\n",
    "\n",
    "    imgnorm = img[minrow:(maxrow+1), mincol:(maxcol+1)]\n",
    "\n",
    "    NEWSIZE_ROW = 30\n",
    "    NEWSIZE_COL = 30\n",
    "    ROW_ORIG_SIZE,COL_ORIG_SIZE = np.shape(imgnorm)\n",
    "    imgnorm1 = np.zeros((NEWSIZE_ROW,NEWSIZE_COL),dtype=np.uint8)\n",
    "    for r in range(0,NEWSIZE_ROW):\n",
    "        for c in range(0,NEWSIZE_COL):\n",
    "            imgnorm1[r,c] = 0 if imgnorm[round((r * ROW_ORIG_SIZE)/NEWSIZE_ROW), \n",
    "                                      round((c * COL_ORIG_SIZE)/NEWSIZE_COL)] < 100 else 255\n",
    "    return imgnorm1"
   ]
  },
  {
   "cell_type": "code",
   "execution_count": 8,
   "metadata": {
    "collapsed": true
   },
   "outputs": [],
   "source": [
    "from PIL import Image\n",
    "import matplotlib.cm as cm\n",
    "import os"
   ]
  },
  {
   "cell_type": "code",
   "execution_count": 9,
   "metadata": {
    "collapsed": false
   },
   "outputs": [],
   "source": [
    "for i,f in enumerate(imfiles):\n",
    "    im = mpimg.imread(f,'grey')\n",
    "    imnorm = ImageResample(im).astype(np.uint8)\n",
    "    #mpimg.imsave('data/facesnorm/'+os.path.basename(f), imnorm, cmap=cm.Greys_r)\n",
    "    img = Image.fromarray(imnorm)\n",
    "    img.save('data/facesnorm/'+os.path.basename(f))\n"
   ]
  },
  {
   "cell_type": "code",
   "execution_count": 10,
   "metadata": {
    "collapsed": false
   },
   "outputs": [],
   "source": [
    "#seem to have problem where the scanner has produced an image which is 2 dimensional, but mpimg.imsave, is 3 dim"
   ]
  },
  {
   "cell_type": "code",
   "execution_count": null,
   "metadata": {
    "collapsed": true
   },
   "outputs": [],
   "source": []
  }
 ],
 "metadata": {
  "anaconda-cloud": {},
  "kernelspec": {
   "display_name": "Python [conda env:machineLearning]",
   "language": "python",
   "name": "conda-env-machineLearning-py"
  },
  "language_info": {
   "codemirror_mode": {
    "name": "ipython",
    "version": 3
   },
   "file_extension": ".py",
   "mimetype": "text/x-python",
   "name": "python",
   "nbconvert_exporter": "python",
   "pygments_lexer": "ipython3",
   "version": "3.5.2"
  }
 },
 "nbformat": 4,
 "nbformat_minor": 1
}
